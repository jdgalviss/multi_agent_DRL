{
 "cells": [
  {
   "cell_type": "code",
   "execution_count": 1,
   "metadata": {},
   "outputs": [],
   "source": [
    "from ddpg import DDPGAgent\n",
    "from environment import TennisEnv\n",
    "import torch\n",
    "import numpy as np"
   ]
  },
  {
   "cell_type": "code",
   "execution_count": 3,
   "metadata": {},
   "outputs": [
    {
     "name": "stderr",
     "output_type": "stream",
     "text": [
      "INFO:unityagents:\n",
      "'Academy' started successfully!\n",
      "Unity Academy name: Academy\n",
      "        Number of Brains: 1\n",
      "        Number of External Brains : 1\n",
      "        Lesson number : 0\n",
      "        Reset Parameters :\n",
      "\t\t\n",
      "Unity brain name: TennisBrain\n",
      "        Number of Visual Observations (per agent): 0\n",
      "        Vector Observation space type: continuous\n",
      "        Vector Observation space size (per agent): 8\n",
      "        Number of stacked Vector Observation: 3\n",
      "        Vector Action space type: continuous\n",
      "        Vector Action space size (per agent): 2\n",
      "        Vector Action descriptions: , \n"
     ]
    },
    {
     "name": "stdout",
     "output_type": "stream",
     "text": [
      "Number of agents: 2\n",
      "Size of each action: 2\n",
      "There are 2 agents. Each observes a state with length: 24\n",
      "The state for the first agent looks like: [ 0.          0.          0.          0.          0.          0.\n",
      "  0.          0.          0.          0.          0.          0.\n",
      "  0.          0.          0.          0.         -6.65278625 -1.5\n",
      " -0.          0.          6.83172083  6.         -0.          0.        ]\n",
      "The state for the second agent looks like: [ 0.          0.          0.          0.          0.          0.\n",
      "  0.          0.          0.          0.          0.          0.\n",
      "  0.          0.          0.          0.         -6.4669857  -1.5\n",
      "  0.          0.         -6.83172083  6.          0.          0.        ]\n"
     ]
    }
   ],
   "source": [
    "critic_checkpoint_path = \"checkpoints/checkpoint_critic1.pth\"\n",
    "actor_checkpoint_path = \"checkpoints/checkpoint_actor1.pth\"\n",
    "env = TennisEnv()\n",
    "agent = DDPGAgent(env.state_size, env.action_size, random_seed = 0)\n",
    "agent.actor.load_state_dict(torch.load(actor_checkpoint_path))\n",
    "agent.critic.load_state_dict(torch.load(critic_checkpoint_path))"
   ]
  },
  {
   "cell_type": "code",
   "execution_count": 4,
   "metadata": {},
   "outputs": [
    {
     "name": "stdout",
     "output_type": "stream",
     "text": [
      "Score: 0.44500000681728125\n",
      "Score: 0.245000003837049\n",
      "Score: 0.1450000023469329\n"
     ]
    }
   ],
   "source": [
    "for i in range(3):\n",
    "    states, _ = env.reset(train_mode=False)                                # get the current state\n",
    "    # agent.reset()\n",
    "    scores_array = np.zeros(env.num_agents)                                      # initialize the score\n",
    "    while True:\n",
    "        actions = agent.act(states)\n",
    "        next_states, rewards, dones, _ = env.step(actions) # Perform action and get new state and reward\n",
    "        scores_array += np.average(rewards)                                # update the score\n",
    "        states = next_states                             # roll over the state to next time step\n",
    "        if any(dones):                                       # exit loop if episode finished\n",
    "            break\n",
    "    current_episode_score = np.max(scores_array)\n",
    "    print(\"Score: {}\".format(current_episode_score))\n",
    "env.close()"
   ]
  },
  {
   "cell_type": "code",
   "execution_count": null,
   "metadata": {},
   "outputs": [],
   "source": []
  }
 ],
 "metadata": {
  "kernelspec": {
   "display_name": "drlnd",
   "language": "python",
   "name": "drlnd"
  },
  "language_info": {
   "codemirror_mode": {
    "name": "ipython",
    "version": 3
   },
   "file_extension": ".py",
   "mimetype": "text/x-python",
   "name": "python",
   "nbconvert_exporter": "python",
   "pygments_lexer": "ipython3",
   "version": "3.6.10"
  }
 },
 "nbformat": 4,
 "nbformat_minor": 4
}
