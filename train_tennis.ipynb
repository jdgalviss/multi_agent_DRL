{
 "cells": [
  {
   "cell_type": "code",
   "execution_count": 1,
   "metadata": {},
   "outputs": [],
   "source": [
    "from environment import TennisEnv\n",
    "from ddpg import DDPGAgent\n",
    "import numpy as np\n",
    "from collections import deque\n",
    "import matplotlib.pyplot as plt\n",
    "import torch\n",
    "import os"
   ]
  },
  {
   "cell_type": "code",
   "execution_count": 2,
   "metadata": {},
   "outputs": [
    {
     "name": "stderr",
     "output_type": "stream",
     "text": [
      "INFO:unityagents:\n",
      "'Academy' started successfully!\n",
      "Unity Academy name: Academy\n",
      "        Number of Brains: 1\n",
      "        Number of External Brains : 1\n",
      "        Lesson number : 0\n",
      "        Reset Parameters :\n",
      "\t\t\n",
      "Unity brain name: TennisBrain\n",
      "        Number of Visual Observations (per agent): 0\n",
      "        Vector Observation space type: continuous\n",
      "        Vector Observation space size (per agent): 8\n",
      "        Number of stacked Vector Observation: 3\n",
      "        Vector Action space type: continuous\n",
      "        Vector Action space size (per agent): 2\n",
      "        Vector Action descriptions: , \n"
     ]
    },
    {
     "name": "stdout",
     "output_type": "stream",
     "text": [
      "Number of agents: 2\n",
      "Size of each action: 2\n",
      "There are 2 agents. Each observes a state with length: 24\n",
      "The state for the first agent looks like: [ 0.          0.          0.          0.          0.          0.\n",
      "  0.          0.          0.          0.          0.          0.\n",
      "  0.          0.          0.          0.         -6.65278625 -1.5\n",
      " -0.          0.          6.83172083  6.         -0.          0.        ]\n",
      "The state for the second agent looks like: [ 0.          0.          0.          0.          0.          0.\n",
      "  0.          0.          0.          0.          0.          0.\n",
      "  0.          0.          0.          0.         -6.4669857  -1.5\n",
      "  0.          0.         -6.83172083  6.          0.          0.        ]\n",
      "Epsiode 100\t Average Score 0.005\n",
      "Epsiode 200\t Average Score 0.000\n",
      "Epsiode 300\t Average Score 0.000\n",
      "Epsiode 400\t Average Score 0.000\n",
      "Epsiode 500\t Average Score 0.001\n",
      "Epsiode 600\t Average Score 0.000\n",
      "Epsiode 700\t Average Score 0.000\n",
      "Epsiode 800\t Average Score 0.004\n",
      "Epsiode 900\t Average Score 0.001\n",
      "Epsiode 1000\t Average Score 0.000\n",
      "Epsiode 1100\t Average Score 0.001\n",
      "Epsiode 1200\t Average Score 0.000\n",
      "Epsiode 1300\t Average Score 0.001\n",
      "Epsiode 1400\t Average Score 0.019\n",
      "Epsiode 1500\t Average Score 0.021\n",
      "Epsiode 1600\t Average Score 0.004\n",
      "Epsiode 1700\t Average Score 0.019\n",
      "Epsiode 1800\t Average Score 0.012\n",
      "Epsiode 1900\t Average Score 0.071\n",
      "Epsiode 2000\t Average Score 0.108\n",
      "Epsiode 2100\t Average Score 0.105\n",
      "Epsiode 2200\t Average Score 0.169\n",
      "Epsiode 2300\t Average Score 0.108\n",
      "Epsiode 2400\t Average Score 0.371\n",
      "Saving agent in Epsiode 2420\t Average Score 0.51\n",
      "Saving agent in Epsiode 2421\t Average Score 0.52\n",
      "Saving agent in Epsiode 2424\t Average Score 0.54\n",
      "Saving agent in Epsiode 2425\t Average Score 0.55\n",
      "Saving agent in Epsiode 2426\t Average Score 0.56\n",
      "Saving agent in Epsiode 2427\t Average Score 0.58\n",
      "Saving agent in Epsiode 2428\t Average Score 0.60\n",
      "Saving agent in Epsiode 2431\t Average Score 0.62\n",
      "Saving agent in Epsiode 2432\t Average Score 0.62\n",
      "Saving agent in Epsiode 2433\t Average Score 0.64\n",
      "Saving agent in Epsiode 2434\t Average Score 0.65\n",
      "Saving agent in Epsiode 2435\t Average Score 0.65\n",
      "Epsiode 2500\t Average Score 0.434\n",
      "Epsiode 2600\t Average Score 0.206\n",
      "Epsiode 2700\t Average Score 0.122\n",
      "Epsiode 2800\t Average Score 0.171\n",
      "Epsiode 2900\t Average Score 0.141\n",
      "Episode 2999\t Average Score 0.179"
     ]
    },
    {
     "data": {
      "image/png": "[encoded data removed]",
      "text/plain": [
       "<Figure size 432x288 with 1 Axes>"
      ]
     },
     "metadata": {
      "needs_background": "light"
     },
     "output_type": "display_data"
    },
    {
     "ename": "NameError",
     "evalue": "name 'avg_scores' is not defined",
     "output_type": "error",
     "traceback": [
      "\u001b[0;31m---------------------------------------------------------------------------\u001b[0m",
      "\u001b[0;31mNameError\u001b[0m                                 Traceback (most recent call last)",
      "\u001b[0;32m<ipython-input-2-ab291442c134>\u001b[0m in \u001b[0;36m<module>\u001b[0;34m\u001b[0m\n\u001b[1;32m     52\u001b[0m \u001b[0mplt\u001b[0m\u001b[0;34m.\u001b[0m\u001b[0mxlabel\u001b[0m\u001b[0;34m(\u001b[0m\u001b[0;34m'Episode #'\u001b[0m\u001b[0;34m)\u001b[0m\u001b[0;34m\u001b[0m\u001b[0;34m\u001b[0m\u001b[0m\n\u001b[1;32m     53\u001b[0m \u001b[0mplt\u001b[0m\u001b[0;34m.\u001b[0m\u001b[0mshow\u001b[0m\u001b[0;34m(\u001b[0m\u001b[0;34m)\u001b[0m\u001b[0;34m\u001b[0m\u001b[0;34m\u001b[0m\u001b[0m\n\u001b[0;32m---> 54\u001b[0;31m \u001b[0mprint\u001b[0m\u001b[0;34m(\u001b[0m\u001b[0mavg_scores\u001b[0m\u001b[0;34m[\u001b[0m\u001b[0;34m-\u001b[0m\u001b[0;36m1\u001b[0m\u001b[0;34m]\u001b[0m\u001b[0;34m)\u001b[0m\u001b[0;34m\u001b[0m\u001b[0;34m\u001b[0m\u001b[0m\n\u001b[0m",
      "\u001b[0;31mNameError\u001b[0m: name 'avg_scores' is not defined"
     ]
    }
   ],
   "source": [
    "def train(n_episodes = 3000, max_t = 1000, log_every = 100, solved_score = 1.0):\n",
    "    env = TennisEnv()\n",
    "    agent = DDPGAgent(env.state_size, env.action_size, random_seed = 0)\n",
    "    best_score = 0.5\n",
    "    scores = []\n",
    "    scores_window = deque(maxlen=100)\n",
    "    scores_mean = []\n",
    "    for i_episode in range(n_episodes):\n",
    "        scores_array = np.zeros(env.num_agents)\n",
    "        states, _ = env.reset()\n",
    "        agent.reset()\n",
    "        \n",
    "        for episode_t in range(max_t):\n",
    "            actions = agent.act(states)\n",
    "            next_states, rewards, dones, _ = env.step(actions)\n",
    "            agent.step(states, actions, rewards, next_states, dones)\n",
    "            states = next_states\n",
    "            scores_array += rewards\n",
    "            if np.any(dones):\n",
    "                break\n",
    "        \n",
    "        current_episode_score = np.max(scores_array)\n",
    "        scores_window.append(current_episode_score)\n",
    "        current_score = np.mean(scores_window)\n",
    "        scores.append(current_episode_score)\n",
    "        scores_mean.append(current_score)\n",
    "        \n",
    "        print (\"\\rEpisode {:}\\t Average Score {:.3f}\".format(i_episode, current_score), end=\"\")\n",
    "        \n",
    "        if i_episode % log_every == 0 and i_episode > 1:\n",
    "            print (\"\\rEpsiode {:}\\t Average Score {:.2f}\".format(i_episode, current_score))\n",
    "        if current_score > best_score and i_episode > 100:\n",
    "            print (\"\\rSaving agent in Epsiode {:}\\t Average Score {:.2f}\".format(i_episode, current_score))\n",
    "            torch.save(agent.actor.state_dict(), 'checkpoints/checkpoint_actor1.pth')\n",
    "            torch.save(agent.critic.state_dict(), 'checkpoints/checkpoint_critic1.pth')\n",
    "            best_score = current_score\n",
    "        if current_score > solved_score:\n",
    "            print (\"\\nEnvironment solved in {:d} episodes!\\tAverage Score: {:3f}\".format(i_episode-100, current_score))\n",
    "            break\n",
    "    env.close()       \n",
    "    return scores, scores_mean, agent\n",
    "    \n",
    "scores, scores_mean, agent = train()  \n",
    "\n",
    "\n",
    "fig = plt.figure()\n",
    "ax = fig.add_subplot(111)\n",
    "ax.grid(True)\n",
    "plt.plot(np.arange(len(scores)), scores)\n",
    "plt.plot(np.arange(len(scores_mean)), scores_mean)\n",
    "plt.ylabel('Score')\n",
    "plt.xlabel('Episode #')\n",
    "plt.show()"
   ]
  },
  {
   "cell_type": "code",
   "execution_count": null,
   "metadata": {},
   "outputs": [],
   "source": []
  },
  {
   "cell_type": "code",
   "execution_count": null,
   "metadata": {},
   "outputs": [],
   "source": []
  }
 ],
 "metadata": {
  "kernelspec": {
   "display_name": "drlnd",
   "language": "python",
   "name": "drlnd"
  },
  "language_info": {
   "codemirror_mode": {
    "name": "ipython",
    "version": 3
   },
   "file_extension": ".py",
   "mimetype": "text/x-python",
   "name": "python",
   "nbconvert_exporter": "python",
   "pygments_lexer": "ipython3",
   "version": "3.6.10"
  }
 },
 "nbformat": 4,
 "nbformat_minor": 4
}
